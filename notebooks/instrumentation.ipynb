{
 "cells": [
  {
   "cell_type": "code",
   "execution_count": 4,
   "id": "0f82b800",
   "metadata": {},
   "outputs": [],
   "source": [
    "import os\n",
    "from langsmith.run_trees import RunTree\n",
    "\n",
    "os.environ[\"LANGCHAIN_PROJECT\"] = \"pycon23\""
   ]
  },
  {
   "cell_type": "code",
   "execution_count": 5,
   "id": "84e6901a",
   "metadata": {},
   "outputs": [
    {
     "data": {
      "text/plain": [
       "'Hello! How can I assist you today?'"
      ]
     },
     "execution_count": 5,
     "metadata": {},
     "output_type": "execute_result"
    }
   ],
   "source": [
    "from langchain.chat_models import ChatOpenAI\n",
    "\n",
    "llm = ChatOpenAI()\n",
    "llm.predict(\"Hello, world!\")"
   ]
  },
  {
   "cell_type": "markdown",
   "id": "49299f66",
   "metadata": {},
   "source": [
    "permitted run_types: [tool', 'chain', 'llm', 'retriever', 'embedding', 'prompt', 'parser']"
   ]
  },
  {
   "cell_type": "code",
   "execution_count": 11,
   "id": "4d24f8f7",
   "metadata": {},
   "outputs": [],
   "source": [
    "parent_run = RunTree(\n",
    "    name=\"My Chat Bot\",\n",
    "    run_type=\"chain\",\n",
    "    inputs={\"text\": \"Summarize this morning's meetings.\"},\n",
    "    serialized={}\n",
    ")\n",
    "\n",
    "child_llm_run = parent_run.create_child(\n",
    "    name=\"My Proprietary LLM\",\n",
    "    run_type=\"retriever\",\n",
    "    inputs={\n",
    "        \"prompts\": [\n",
    "            \"You are an AI Assistant. Summarize this morning's meetings.\"\n",
    "        ]\n",
    "    },\n",
    ")\n",
    "\n",
    "child_llm_run.end(outputs={\"generations\": [\"Summary of the meeting...\"]})\n",
    "parent_run.end(outputs={\"output\": [\"The meeting notes are as follows:...\"]})\n",
    "\n",
    "res = parent_run.post(exclude_child_runs=False)\n",
    "res.result()"
   ]
  },
  {
   "cell_type": "code",
   "execution_count": 7,
   "id": "98ba7a43",
   "metadata": {},
   "outputs": [
    {
     "data": {
      "text/plain": [
       "UUID('2e128808-9206-41dd-a6f6-03661ca8f972')"
      ]
     },
     "execution_count": 7,
     "metadata": {},
     "output_type": "execute_result"
    }
   ],
   "source": [
    "parent_run.id"
   ]
  },
  {
   "cell_type": "code",
   "execution_count": 9,
   "id": "59c92212",
   "metadata": {},
   "outputs": [
    {
     "data": {
      "text/plain": [
       "Feedback(id=UUID('5bcf00e8-7fef-459a-bb5a-463621c7d1a1'), created_at=datetime.datetime(2023, 9, 28, 5, 57, 28, 464498, tzinfo=datetime.timezone.utc), modified_at=datetime.datetime(2023, 9, 28, 5, 57, 28, 464503, tzinfo=datetime.timezone.utc), run_id=UUID('2e128808-9206-41dd-a6f6-03661ca8f972'), key='human_feedback', score=None, value='like', comment=None, correction=None, feedback_source=FeedbackSourceBase(type='api', metadata={}))"
      ]
     },
     "execution_count": 9,
     "metadata": {},
     "output_type": "execute_result"
    }
   ],
   "source": [
    "from langsmith import Client\n",
    "\n",
    "client = Client()\n",
    "client.create_feedback(\n",
    "    parent_run.id,\n",
    "    \"human_feedback\",\n",
    "    value = \"like\",\n",
    ")"
   ]
  },
  {
   "cell_type": "code",
   "execution_count": null,
   "id": "c9f6ce0b",
   "metadata": {},
   "outputs": [],
   "source": []
  }
 ],
 "metadata": {
  "kernelspec": {
   "display_name": "Python 3 (ipykernel)",
   "language": "python",
   "name": "python3"
  },
  "language_info": {
   "codemirror_mode": {
    "name": "ipython",
    "version": 3
   },
   "file_extension": ".py",
   "mimetype": "text/x-python",
   "name": "python",
   "nbconvert_exporter": "python",
   "pygments_lexer": "ipython3",
   "version": "3.10.12"
  }
 },
 "nbformat": 4,
 "nbformat_minor": 5
}
